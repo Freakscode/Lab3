{
 "cells": [
  {
   "cell_type": "code",
   "execution_count": 74,
   "metadata": {
    "id": "IRTXp43SkTlT"
   },
   "outputs": [],
   "source": [
    "import numpy as np\n",
    "import pandas as pd\n",
    "import matplotlib.pyplot as plt \n",
    "import seaborn as sns\n",
    "from scipy.fftpack import fft, ifft\n",
    "from sklearn.model_selection import GridSearchCV, train_test_split, cross_val_predict, cross_val_score\n",
    "from sklearn.feature_selection import SelectKBest, chi2, SelectFromModel\n",
    "from sklearn.metrics import accuracy_score, f1_score, roc_auc_score, confusion_matrix\n",
    "from sklearn.svm import SVC, NuSVC, LinearSVC, SVC\n",
    "from sklearn.neighbors import KNeighborsClassifier\n",
    "from sklearn.ensemble import RandomForestClassifier\n",
    "from sklearn.linear_model import LogisticRegression\n",
    "from sklearn.pipeline import Pipeline"
   ]
  },
  {
   "cell_type": "code",
   "execution_count": null,
   "metadata": {
    "colab": {
     "base_uri": "https://localhost:8080/"
    },
    "id": "C28_kiEukdXG",
    "outputId": "48352165-90aa-4f47-cb1a-52244bacb2a3"
   },
   "outputs": [],
   "source": [
    "df = pd.read_csv('DATA_EMG.csv')\n",
    "df.head()\n",
    "df.info()"
   ]
  },
  {
   "cell_type": "code",
   "source": [
    "data = df.to_numpy()\n",
    "print(data)"
   ],
   "metadata": {
    "colab": {
     "base_uri": "https://localhost:8080/",
     "height": 502
    },
    "id": "Hj0IfVbeAIVf",
    "outputId": "fead1d1a-49da-42f9-fb49-fb38cb589131"
   },
   "execution_count": null,
   "outputs": []
  },
  {
   "cell_type": "code",
   "execution_count": null,
   "metadata": {
    "id": "5o3x3GSxv_UQ"
   },
   "outputs": [],
   "source": [
    "data[:,-1] = [1 if x == 2 else x for x in data[:,-1]]\n",
    "columns = ['Time', 'Right Rectus Femoris', 'Left Gluteus Maximus', 'Left Gastrocnemius Medialis', 'Left Semitendinosus', 'Left Biceps Femoris Caput Longus', 'Right Vastus Medialis', 'Right Tibialis Anterior', 'Left Gastrocnemius Lateralis', 'Target']\n",
    "data_df = pd.DataFrame(data, columns=columns)"
   ]
  },
  {
   "cell_type": "code",
   "execution_count": null,
   "metadata": {
    "colab": {
     "base_uri": "https://localhost:8080/",
     "height": 1000
    },
    "id": "Fr0b1fiVlBdM",
    "outputId": "780aac26-b9ee-4e1a-d4f5-910c9421db6d"
   },
   "outputs": [],
   "source": [
    "data_df.plot(x='Time', y=['Right Rectus Femoris', 'Left Gluteus Maximus', 'Left Gastrocnemius Medialis', 'Left Semitendinosus', 'Left Biceps Femoris Caput Longus', 'Right Vastus Medialis', 'Right Tibialis Anterior', 'Left Gastrocnemius Lateralis'], kind = 'line', figsize = (20,20), subplots=True)\n",
    "plt.show()"
   ]
  },
  {
   "cell_type": "code",
   "execution_count": null,
   "metadata": {
    "colab": {
     "base_uri": "https://localhost:8080/",
     "height": 502
    },
    "id": "Y2fFBmMRmyk_",
    "outputId": "216bdc24-3f01-4f7e-d4e6-7525f75de479"
   },
   "outputs": [],
   "source": [
    "freq = 1000\n",
    "\n",
    "if len(data_df)/freq != len(data_df)//freq:\n",
    "    cant_vent = len(data_df)//freq + 1\n",
    "else:\n",
    "    cant_vent = len(data_df)//freq\n",
    "\n",
    "def sign_mean():\n",
    "    global df_mean\n",
    "    ventana = np.zeros((cant_vent, 10))\n",
    "    Dataset_2=np.array(data_df)\n",
    "    Dato=np.zeros((cant_vent, 10))\n",
    "    for i in range (0, cant_vent):\n",
    "        ventana= Dataset_2[(i * freq):((i * freq) + freq), :]\n",
    "        Dato[i]=np.mean(ventana, axis=0)\n",
    "    columns_mean = ['Time (mean)', 'Right Rectus Femoris (Mean)', 'Left Gluteus Maximus(Mean)' , 'Left Gastrocnemius Medialis (Mean)', 'Left Semitendinosus (Mean)', 'Left Biceps Femoris Caput Longus (Mean)', 'Right Vastus Medialis (Mean)', 'Right Tibialis Anterior (Mean)', 'Left Gastrocnemius Lateralis (Mean)', 'Target']\n",
    "    df_mean = pd.DataFrame(Dato, columns=columns_mean)\n",
    "    df_mean.pop('Target')\n",
    "    return (df_mean)\n",
    "\n",
    "def sign_median():\n",
    "    global df_median\n",
    "    ventana = np.zeros((cant_vent, 10))\n",
    "    Dataset_2=np.array(data_df)\n",
    "    Dato=np.zeros((cant_vent, 10))\n",
    "    for i in range (0, cant_vent):\n",
    "        ventana= Dataset_2[(i * freq):((i * freq) + freq), :]\n",
    "        Dato[i]=np.median(ventana, axis=0)\n",
    "    columns_median = ['Time (Median)', 'Right Rectus Femoris (Median)', 'Left Gluteus Maximus(Median)' , 'Left Gastrocnemius Medialis (Median)', 'Left Semitendinosus (Median)', 'Left Biceps Femoris Caput Longus (Median)', 'Right Vastus Medialis (Median)', 'Right Tibialis Anterior (Median)', 'Left Gastrocnemius Lateralis (Median)', 'Target']\n",
    "    df_median = pd.DataFrame(Dato, columns=columns_median)\n",
    "    df_median.pop('Target')\n",
    "    return (df_median)\n",
    "\n",
    "def sign_std():\n",
    "    global df_std\n",
    "    ventana = np.zeros((cant_vent, 10))\n",
    "    Dataset_2=np.array(data_df)\n",
    "    Dato=np.zeros((cant_vent, 10))\n",
    "    for i in range (0, cant_vent):\n",
    "        ventana= Dataset_2[(i * freq):((i * freq) + freq), :]\n",
    "        Dato[i]=np.median(ventana, axis=0)\n",
    "    columns_std = ['Time (std)', 'Right Rectus Femoris (std)', 'Left Gluteus Maximus(std)' , 'Left Gastrocnemius Medialis (std)', 'Left Semitendinosus (std)', 'Left Biceps Femoris Caput Longus (std)', 'Right Vastus Medialis (std)', 'Right Tibialis Anterior (std)', 'Left Gastrocnemius Lateralis (std)', 'Target']\n",
    "    df_std = pd.DataFrame(Dato, columns=columns_std)\n",
    "    df_std.pop('Target')\n",
    "    return (df_std)\n",
    "\n",
    "def sign_cov():\n",
    "    global df_cov\n",
    "    ventana = np.zeros((cant_vent, 10))\n",
    "    Dataset_2=np.array(data_df)\n",
    "    Dato=np.zeros((cant_vent, 10))\n",
    "    for i in range (0, cant_vent):\n",
    "        ventana= Dataset_2[(i * freq):((i * freq) + freq), :]\n",
    "        Dato[i]=np.median(ventana, axis=0)\n",
    "    columns_cov = ['Time (Cov)', 'Right Rectus Femoris (Cov)', 'Left Gluteus Maximus(Cov)' , 'Left Gastrocnemius Medialis (Cov)', 'Left Semitendinosus (Cov)', 'Left Biceps Femoris Caput Longus (Cov)', 'Right Vastus Medialis (Cov)', 'Right Tibialis Anterior (Cov)', 'Left Gastrocnemius Lateralis (Cov)', 'Target']\n",
    "    df_cov = pd.DataFrame(Dato, columns=columns_cov)\n",
    "    df_cov.pop('Target')\n",
    "    return (df_cov)\n",
    "\n",
    "def sign_var():\n",
    "    global df_var\n",
    "    ventana = np.zeros((cant_vent, 10))\n",
    "    Dataset_2=np.array(data_df)\n",
    "    Dato=np.zeros((cant_vent, 10))\n",
    "    for i in range (0, cant_vent):\n",
    "        ventana= Dataset_2[(i * freq):((i * freq) + freq), :]\n",
    "        Dato[i]=np.median(ventana, axis=0)\n",
    "    columns_var = ['Time (var)', 'Right Rectus Femoris (var)', 'Left Gluteus Maximus(var)' , 'Left Gastrocnemius Medialis (var)', 'Left Semitendinosus (var)', 'Left Biceps Femoris Caput Longus (var)', 'Right Vastus Medialis (var)', 'Right Tibialis Anterior (var)', 'Left Gastrocnemius Lateralis (var)', 'Target']\n",
    "    df_var = pd.DataFrame(Dato, columns=columns_var)\n",
    "    return (df_var)\n",
    "\n",
    "sign_mean()\n",
    "sign_median()\n",
    "sign_var()\n",
    "sign_std()\n",
    "sign_cov()"
   ]
  },
  {
   "cell_type": "code",
   "execution_count": null,
   "outputs": [],
   "source": [
    "df_mean.head()"
   ],
   "metadata": {
    "collapsed": false
   }
  },
  {
   "cell_type": "code",
   "execution_count": null,
   "outputs": [],
   "source": [
    "df_median.head()"
   ],
   "metadata": {
    "collapsed": false
   }
  },
  {
   "cell_type": "code",
   "execution_count": null,
   "outputs": [],
   "source": [
    "df_var.head()"
   ],
   "metadata": {
    "collapsed": false
   }
  },
  {
   "cell_type": "code",
   "execution_count": null,
   "outputs": [],
   "source": [
    "df_std.head()"
   ],
   "metadata": {
    "collapsed": false
   }
  },
  {
   "cell_type": "code",
   "execution_count": null,
   "outputs": [],
   "source": [
    "df_cov.head()"
   ],
   "metadata": {
    "collapsed": false
   }
  },
  {
   "cell_type": "code",
   "execution_count": null,
   "metadata": {
    "colab": {
     "base_uri": "https://localhost:8080/",
     "height": 1000
    },
    "id": "qVyrk8NEDuRO",
    "outputId": "af402d3e-1d20-4f6a-d5fd-016733dda555"
   },
   "outputs": [],
   "source": [
    "data_df.plot(x='Time', y=['Right Rectus Femoris', 'Left Gluteus Maximus', 'Left Gastrocnemius Medialis', 'Left Semitendinosus', 'Left Biceps Femoris Caput Longus', 'Right Vastus Medialis', 'Right Tibialis Anterior', 'Left Gastrocnemius Lateralis'], kind = 'line', figsize = (20, 25), subplots=True, layout=(8,1), xlabel = 'Time (s)',ylabel='Signal amplitude (mV)', title = 'Raw Data')\n",
    "\n",
    "#plt.show()\n",
    "\n",
    "df_mean.plot(x = 'Time (mean)', y = ['Right Rectus Femoris (Mean)', 'Left Gluteus Maximus(Mean)' , 'Left Gastrocnemius Medialis (Mean)', 'Left Semitendinosus (Mean)', 'Left Biceps Femoris Caput Longus (Mean)', 'Right Vastus Medialis (Mean)', 'Right Tibialis Anterior (Mean)', 'Left Gastrocnemius Lateralis (Mean)'], kind = 'line', figsize = (20, 25), subplots=True, layout=(8,1), xlabel = 'Mean time (s)', ylabel='Mean Signal Amplitude (mV)', title='Grouped Data with mean values per second')\n",
    "plt.show()"
   ]
  },
  {
   "cell_type": "code",
   "execution_count": null,
   "outputs": [],
   "source": [
    "data_df.plot(x='Time', y=['Right Rectus Femoris', 'Left Gluteus Maximus', 'Left Gastrocnemius Medialis', 'Left Semitendinosus', 'Left Biceps Femoris Caput Longus', 'Right Vastus Medialis', 'Right Tibialis Anterior', 'Left Gastrocnemius Lateralis'], kind = 'line', figsize = (20, 25), subplots=True, layout=(8,1), xlabel = 'Time (s)',ylabel='Signal amplitude (mV)', title = 'Raw Data')\n",
    "\n",
    "#plt.show()\n",
    "\n",
    "df_median.plot(x = 'Time (Median)', y = ['Right Rectus Femoris (Median)', 'Left Gluteus Maximus(Median)' , 'Left Gastrocnemius Medialis (Median)', 'Left Semitendinosus (Median)', 'Left Biceps Femoris Caput Longus (Median)', 'Right Vastus Medialis (Median)', 'Right Tibialis Anterior (Median)', 'Left Gastrocnemius Lateralis (Median)'], kind = 'line', figsize = (20, 25), subplots=True, layout=(8,1), xlabel = 'Mean time (s)', ylabel='Median Signal Amplitude (mV)', title='Grouped Data with median values per second')\n",
    "plt.show()"
   ],
   "metadata": {
    "collapsed": false
   }
  },
  {
   "cell_type": "code",
   "execution_count": null,
   "outputs": [],
   "source": [
    "data_df.plot(x='Time', y=['Right Rectus Femoris', 'Left Gluteus Maximus', 'Left Gastrocnemius Medialis', 'Left Semitendinosus', 'Left Biceps Femoris Caput Longus', 'Right Vastus Medialis', 'Right Tibialis Anterior', 'Left Gastrocnemius Lateralis'], kind = 'line', figsize = (20, 25), subplots=True, layout=(8,1), xlabel = 'Time (s)',ylabel='Signal amplitude (mV)', title = 'Raw Data')\n",
    "\n",
    "#plt.show()\n",
    "\n",
    "df_std.plot(x = 'Time (std)', y = ['Right Rectus Femoris (std)', 'Left Gluteus Maximus(std)' , 'Left Gastrocnemius Medialis (std)', 'Left Semitendinosus (std)', 'Left Biceps Femoris Caput Longus (std)', 'Right Vastus Medialis (std)', 'Right Tibialis Anterior (std)', 'Left Gastrocnemius Lateralis (std)'], kind = 'line', figsize = (20, 25), subplots=True, layout=(8,1), xlabel = 'std time (s)', ylabel='std Signal Amplitude (mV)', title='Grouped Data with std values per second')\n",
    "plt.show()"
   ],
   "metadata": {
    "collapsed": false
   }
  },
  {
   "cell_type": "code",
   "execution_count": null,
   "outputs": [],
   "source": [
    "data_df.plot(x='Time', y=['Right Rectus Femoris', 'Left Gluteus Maximus', 'Left Gastrocnemius Medialis', 'Left Semitendinosus', 'Left Biceps Femoris Caput Longus', 'Right Vastus Medialis', 'Right Tibialis Anterior', 'Left Gastrocnemius Lateralis'], kind = 'line', figsize = (20, 25), subplots=True, layout=(8,1), xlabel = 'Time (s)',ylabel='Signal amplitude (mV)', title = 'Raw Data')\n",
    "\n",
    "#plt.show()\n",
    "\n",
    "df_cov.plot(x = 'Time (Cov)', y = ['Right Rectus Femoris (Cov)', 'Left Gluteus Maximus(Cov)' , 'Left Gastrocnemius Medialis (Cov)', 'Left Semitendinosus (Cov)', 'Left Biceps Femoris Caput Longus (Cov)', 'Right Vastus Medialis (Cov)', 'Right Tibialis Anterior (Cov)', 'Left Gastrocnemius Lateralis (Cov)'], kind = 'line', figsize = (20, 25), subplots=True, layout=(8,1), xlabel = 'Mean time (s)', ylabel='Cov Signal Amplitude (mV)', title='Grouped Data with Cov values per second')\n",
    "plt.show()"
   ],
   "metadata": {
    "collapsed": false
   }
  },
  {
   "cell_type": "code",
   "execution_count": null,
   "outputs": [],
   "source": [
    "data_df.plot(x='Time', y=['Right Rectus Femoris', 'Left Gluteus Maximus', 'Left Gastrocnemius Medialis', 'Left Semitendinosus', 'Left Biceps Femoris Caput Longus', 'Right Vastus Medialis', 'Right Tibialis Anterior', 'Left Gastrocnemius Lateralis'], kind = 'line', figsize = (20, 25), subplots=True, layout=(8,1), xlabel = 'Time (s)',ylabel='Signal amplitude (mV)', title = 'Raw Data')\n",
    "\n",
    "#plt.show()\n",
    "\n",
    "df_var.plot(x = 'Time (var)', y = ['Right Rectus Femoris (var)', 'Left Gluteus Maximus(var)' , 'Left Gastrocnemius Medialis (var)', 'Left Semitendinosus (var)', 'Left Biceps Femoris Caput Longus (var)', 'Right Vastus Medialis (var)', 'Right Tibialis Anterior (var)', 'Left Gastrocnemius Lateralis (var)'], kind = 'line', figsize = (20, 25), subplots=True, layout=(8,1), xlabel = 'Mean time (s)', ylabel='var Signal Amplitude (mV)', title='Grouped Data with var values per second')\n",
    "plt.show()"
   ],
   "metadata": {
    "collapsed": false
   }
  },
  {
   "cell_type": "markdown",
   "source": [
    "#Frequency Analysis with Fourier Transform"
   ],
   "metadata": {
    "id": "hMCd15muTNpf"
   }
  },
  {
   "cell_type": "markdown",
   "source": [
    "# Concatenating all dataframes"
   ],
   "metadata": {
    "collapsed": false
   }
  },
  {
   "cell_type": "code",
   "execution_count": 86,
   "outputs": [
    {
     "data": {
      "text/plain": "     Time (mean)  Right Rectus Femoris (Mean)  Left Gluteus Maximus(Mean)  \\\n0         0.4995                     0.000045                1.923540e-05   \n1         1.4995                    -0.000045               -1.810325e-06   \n2         2.4995                     0.000136                1.489724e-06   \n3         3.4995                     0.000080                1.984335e-06   \n4         4.4995                    -0.000375               -2.246663e-05   \n..           ...                          ...                         ...   \n682     682.4995                     0.000003                2.906505e-05   \n683     683.4995                    -0.000034                5.821844e-07   \n684     684.4995                     0.000063                2.018275e-05   \n685     685.4995                    -0.000028               -4.521857e-05   \n686     686.2620                     0.000018                7.036150e-06   \n\n     Left Gastrocnemius Medialis (Mean)  Left Semitendinosus (Mean)  \\\n0                             -0.000080                    0.000058   \n1                              0.000053                   -0.000014   \n2                              0.000276                   -0.000027   \n3                             -0.000374                   -0.000012   \n4                              0.000177                    0.000042   \n..                                  ...                         ...   \n682                            0.000350                    0.000132   \n683                            0.000015                   -0.000226   \n684                           -0.001522                    0.000203   \n685                            0.000508                   -0.000068   \n686                            0.001705                   -0.000159   \n\n     Left Biceps Femoris Caput Longus (Mean)  Right Vastus Medialis (Mean)  \\\n0                                   0.000043                     -0.000021   \n1                                   0.000021                      0.000021   \n2                                  -0.000051                     -0.000115   \n3                                  -0.000050                     -0.000027   \n4                                   0.000037                      0.000161   \n..                                       ...                           ...   \n682                                -0.000010                      0.000235   \n683                                -0.000065                      0.000332   \n684                                 0.000192                     -0.000427   \n685                                -0.000050                     -0.000071   \n686                                -0.000094                      0.000076   \n\n     Right Tibialis Anterior (Mean)  Left Gastrocnemius Lateralis (Mean)  \\\n0                     -2.840982e-05                             0.000211   \n1                     -6.771324e-05                            -0.000340   \n2                      5.225433e-05                             0.000093   \n3                     -6.911869e-05                            -0.000227   \n4                      1.295356e-04                            -0.000022   \n..                              ...                                  ...   \n682                   -2.749086e-07                            -0.000255   \n683                   -1.195577e-04                             0.000593   \n684                    8.383121e-05                            -0.000648   \n685                   -4.443207e-05                             0.000172   \n686                    9.654445e-05                            -0.000271   \n\n     Time (Median)  ...  Time (var)  Right Rectus Femoris (var)  \\\n0           0.4995  ...      0.4995                    0.000211   \n1           1.4995  ...      1.4995                   -0.000923   \n2           2.4995  ...      2.4995                    0.000710   \n3           3.4995  ...      3.4995                    0.000738   \n4           4.4995  ...      4.4995                   -0.000819   \n..             ...  ...         ...                         ...   \n682       682.4995  ...    682.4995                   -0.000091   \n683       683.4995  ...    683.4995                    0.000787   \n684       684.4995  ...    684.4995                    0.000317   \n685       685.4995  ...    685.4995                    0.000024   \n686       686.2620  ...    686.2620                    0.000641   \n\n     Left Gluteus Maximus(var)  Left Gastrocnemius Medialis (var)  \\\n0                     0.000084                           0.000309   \n1                     0.000247                          -0.000640   \n2                    -0.000113                          -0.000502   \n3                     0.000178                          -0.000014   \n4                     0.000169                           0.000026   \n..                         ...                                ...   \n682                  -0.000045                           0.000179   \n683                  -0.000073                          -0.001836   \n684                   0.000124                          -0.001723   \n685                   0.000173                           0.000070   \n686                  -0.000096                           0.000616   \n\n     Left Semitendinosus (var)  Left Biceps Femoris Caput Longus (var)  \\\n0                    -0.000293                                0.000041   \n1                    -0.000808                                0.000170   \n2                    -0.000916                               -0.000154   \n3                    -0.000391                                0.000349   \n4                    -0.000796                                0.000105   \n..                         ...                                     ...   \n682                  -0.000602                               -0.000067   \n683                  -0.001241                                0.000523   \n684                  -0.001218                               -0.000228   \n685                  -0.000232                                0.000002   \n686                  -0.000923                                0.000696   \n\n     Right Vastus Medialis (var)  Right Tibialis Anterior (var)  \\\n0                      -0.000549                  -6.351310e-04   \n1                       0.000312                   9.169532e-07   \n2                      -0.000319                   2.244293e-05   \n3                      -0.000498                  -7.505656e-04   \n4                      -0.000315                   2.196193e-04   \n..                           ...                            ...   \n682                    -0.000235                  -7.957807e-04   \n683                    -0.000375                  -9.689218e-04   \n684                    -0.000236                  -5.159327e-04   \n685                    -0.000295                   1.782979e-04   \n686                    -0.000214                  -1.293587e-04   \n\n     Left Gastrocnemius Lateralis (var)  Target  \n0                              0.001065     0.0  \n1                             -0.001120     0.0  \n2                              0.000035     0.0  \n3                              0.000321     0.0  \n4                              0.000581     0.0  \n..                                  ...     ...  \n682                           -0.000881     1.0  \n683                           -0.000743     1.0  \n684                           -0.000637     1.0  \n685                           -0.000019     1.0  \n686                           -0.000750     1.0  \n\n[687 rows x 46 columns]",
      "text/html": "<div>\n<style scoped>\n    .dataframe tbody tr th:only-of-type {\n        vertical-align: middle;\n    }\n\n    .dataframe tbody tr th {\n        vertical-align: top;\n    }\n\n    .dataframe thead th {\n        text-align: right;\n    }\n</style>\n<table border=\"1\" class=\"dataframe\">\n  <thead>\n    <tr style=\"text-align: right;\">\n      <th></th>\n      <th>Time (mean)</th>\n      <th>Right Rectus Femoris (Mean)</th>\n      <th>Left Gluteus Maximus(Mean)</th>\n      <th>Left Gastrocnemius Medialis (Mean)</th>\n      <th>Left Semitendinosus (Mean)</th>\n      <th>Left Biceps Femoris Caput Longus (Mean)</th>\n      <th>Right Vastus Medialis (Mean)</th>\n      <th>Right Tibialis Anterior (Mean)</th>\n      <th>Left Gastrocnemius Lateralis (Mean)</th>\n      <th>Time (Median)</th>\n      <th>...</th>\n      <th>Time (var)</th>\n      <th>Right Rectus Femoris (var)</th>\n      <th>Left Gluteus Maximus(var)</th>\n      <th>Left Gastrocnemius Medialis (var)</th>\n      <th>Left Semitendinosus (var)</th>\n      <th>Left Biceps Femoris Caput Longus (var)</th>\n      <th>Right Vastus Medialis (var)</th>\n      <th>Right Tibialis Anterior (var)</th>\n      <th>Left Gastrocnemius Lateralis (var)</th>\n      <th>Target</th>\n    </tr>\n  </thead>\n  <tbody>\n    <tr>\n      <th>0</th>\n      <td>0.4995</td>\n      <td>0.000045</td>\n      <td>1.923540e-05</td>\n      <td>-0.000080</td>\n      <td>0.000058</td>\n      <td>0.000043</td>\n      <td>-0.000021</td>\n      <td>-2.840982e-05</td>\n      <td>0.000211</td>\n      <td>0.4995</td>\n      <td>...</td>\n      <td>0.4995</td>\n      <td>0.000211</td>\n      <td>0.000084</td>\n      <td>0.000309</td>\n      <td>-0.000293</td>\n      <td>0.000041</td>\n      <td>-0.000549</td>\n      <td>-6.351310e-04</td>\n      <td>0.001065</td>\n      <td>0.0</td>\n    </tr>\n    <tr>\n      <th>1</th>\n      <td>1.4995</td>\n      <td>-0.000045</td>\n      <td>-1.810325e-06</td>\n      <td>0.000053</td>\n      <td>-0.000014</td>\n      <td>0.000021</td>\n      <td>0.000021</td>\n      <td>-6.771324e-05</td>\n      <td>-0.000340</td>\n      <td>1.4995</td>\n      <td>...</td>\n      <td>1.4995</td>\n      <td>-0.000923</td>\n      <td>0.000247</td>\n      <td>-0.000640</td>\n      <td>-0.000808</td>\n      <td>0.000170</td>\n      <td>0.000312</td>\n      <td>9.169532e-07</td>\n      <td>-0.001120</td>\n      <td>0.0</td>\n    </tr>\n    <tr>\n      <th>2</th>\n      <td>2.4995</td>\n      <td>0.000136</td>\n      <td>1.489724e-06</td>\n      <td>0.000276</td>\n      <td>-0.000027</td>\n      <td>-0.000051</td>\n      <td>-0.000115</td>\n      <td>5.225433e-05</td>\n      <td>0.000093</td>\n      <td>2.4995</td>\n      <td>...</td>\n      <td>2.4995</td>\n      <td>0.000710</td>\n      <td>-0.000113</td>\n      <td>-0.000502</td>\n      <td>-0.000916</td>\n      <td>-0.000154</td>\n      <td>-0.000319</td>\n      <td>2.244293e-05</td>\n      <td>0.000035</td>\n      <td>0.0</td>\n    </tr>\n    <tr>\n      <th>3</th>\n      <td>3.4995</td>\n      <td>0.000080</td>\n      <td>1.984335e-06</td>\n      <td>-0.000374</td>\n      <td>-0.000012</td>\n      <td>-0.000050</td>\n      <td>-0.000027</td>\n      <td>-6.911869e-05</td>\n      <td>-0.000227</td>\n      <td>3.4995</td>\n      <td>...</td>\n      <td>3.4995</td>\n      <td>0.000738</td>\n      <td>0.000178</td>\n      <td>-0.000014</td>\n      <td>-0.000391</td>\n      <td>0.000349</td>\n      <td>-0.000498</td>\n      <td>-7.505656e-04</td>\n      <td>0.000321</td>\n      <td>0.0</td>\n    </tr>\n    <tr>\n      <th>4</th>\n      <td>4.4995</td>\n      <td>-0.000375</td>\n      <td>-2.246663e-05</td>\n      <td>0.000177</td>\n      <td>0.000042</td>\n      <td>0.000037</td>\n      <td>0.000161</td>\n      <td>1.295356e-04</td>\n      <td>-0.000022</td>\n      <td>4.4995</td>\n      <td>...</td>\n      <td>4.4995</td>\n      <td>-0.000819</td>\n      <td>0.000169</td>\n      <td>0.000026</td>\n      <td>-0.000796</td>\n      <td>0.000105</td>\n      <td>-0.000315</td>\n      <td>2.196193e-04</td>\n      <td>0.000581</td>\n      <td>0.0</td>\n    </tr>\n    <tr>\n      <th>...</th>\n      <td>...</td>\n      <td>...</td>\n      <td>...</td>\n      <td>...</td>\n      <td>...</td>\n      <td>...</td>\n      <td>...</td>\n      <td>...</td>\n      <td>...</td>\n      <td>...</td>\n      <td>...</td>\n      <td>...</td>\n      <td>...</td>\n      <td>...</td>\n      <td>...</td>\n      <td>...</td>\n      <td>...</td>\n      <td>...</td>\n      <td>...</td>\n      <td>...</td>\n      <td>...</td>\n    </tr>\n    <tr>\n      <th>682</th>\n      <td>682.4995</td>\n      <td>0.000003</td>\n      <td>2.906505e-05</td>\n      <td>0.000350</td>\n      <td>0.000132</td>\n      <td>-0.000010</td>\n      <td>0.000235</td>\n      <td>-2.749086e-07</td>\n      <td>-0.000255</td>\n      <td>682.4995</td>\n      <td>...</td>\n      <td>682.4995</td>\n      <td>-0.000091</td>\n      <td>-0.000045</td>\n      <td>0.000179</td>\n      <td>-0.000602</td>\n      <td>-0.000067</td>\n      <td>-0.000235</td>\n      <td>-7.957807e-04</td>\n      <td>-0.000881</td>\n      <td>1.0</td>\n    </tr>\n    <tr>\n      <th>683</th>\n      <td>683.4995</td>\n      <td>-0.000034</td>\n      <td>5.821844e-07</td>\n      <td>0.000015</td>\n      <td>-0.000226</td>\n      <td>-0.000065</td>\n      <td>0.000332</td>\n      <td>-1.195577e-04</td>\n      <td>0.000593</td>\n      <td>683.4995</td>\n      <td>...</td>\n      <td>683.4995</td>\n      <td>0.000787</td>\n      <td>-0.000073</td>\n      <td>-0.001836</td>\n      <td>-0.001241</td>\n      <td>0.000523</td>\n      <td>-0.000375</td>\n      <td>-9.689218e-04</td>\n      <td>-0.000743</td>\n      <td>1.0</td>\n    </tr>\n    <tr>\n      <th>684</th>\n      <td>684.4995</td>\n      <td>0.000063</td>\n      <td>2.018275e-05</td>\n      <td>-0.001522</td>\n      <td>0.000203</td>\n      <td>0.000192</td>\n      <td>-0.000427</td>\n      <td>8.383121e-05</td>\n      <td>-0.000648</td>\n      <td>684.4995</td>\n      <td>...</td>\n      <td>684.4995</td>\n      <td>0.000317</td>\n      <td>0.000124</td>\n      <td>-0.001723</td>\n      <td>-0.001218</td>\n      <td>-0.000228</td>\n      <td>-0.000236</td>\n      <td>-5.159327e-04</td>\n      <td>-0.000637</td>\n      <td>1.0</td>\n    </tr>\n    <tr>\n      <th>685</th>\n      <td>685.4995</td>\n      <td>-0.000028</td>\n      <td>-4.521857e-05</td>\n      <td>0.000508</td>\n      <td>-0.000068</td>\n      <td>-0.000050</td>\n      <td>-0.000071</td>\n      <td>-4.443207e-05</td>\n      <td>0.000172</td>\n      <td>685.4995</td>\n      <td>...</td>\n      <td>685.4995</td>\n      <td>0.000024</td>\n      <td>0.000173</td>\n      <td>0.000070</td>\n      <td>-0.000232</td>\n      <td>0.000002</td>\n      <td>-0.000295</td>\n      <td>1.782979e-04</td>\n      <td>-0.000019</td>\n      <td>1.0</td>\n    </tr>\n    <tr>\n      <th>686</th>\n      <td>686.2620</td>\n      <td>0.000018</td>\n      <td>7.036150e-06</td>\n      <td>0.001705</td>\n      <td>-0.000159</td>\n      <td>-0.000094</td>\n      <td>0.000076</td>\n      <td>9.654445e-05</td>\n      <td>-0.000271</td>\n      <td>686.2620</td>\n      <td>...</td>\n      <td>686.2620</td>\n      <td>0.000641</td>\n      <td>-0.000096</td>\n      <td>0.000616</td>\n      <td>-0.000923</td>\n      <td>0.000696</td>\n      <td>-0.000214</td>\n      <td>-1.293587e-04</td>\n      <td>-0.000750</td>\n      <td>1.0</td>\n    </tr>\n  </tbody>\n</table>\n<p>687 rows × 46 columns</p>\n</div>"
     },
     "execution_count": 86,
     "metadata": {},
     "output_type": "execute_result"
    }
   ],
   "source": [
    "stats_df = pd.concat([df_mean, df_median, df_std, df_cov, df_var], axis=1)\n",
    "stats_df"
   ],
   "metadata": {
    "collapsed": false
   }
  },
  {
   "cell_type": "code",
   "execution_count": null,
   "outputs": [],
   "source": [
    "print(stats_df.columns)"
   ],
   "metadata": {
    "collapsed": false
   }
  },
  {
   "cell_type": "code",
   "execution_count": 60,
   "metadata": {
    "colab": {
     "base_uri": "https://localhost:8080/",
     "height": 1000
    },
    "id": "d_QRyJzQqohm",
    "outputId": "aa89cf68-8197-4508-b38a-f8e7f5bdaf53"
   },
   "outputs": [],
   "source": [
    "time_array = stats_df[['Time (Median)']]\n",
    "stats_df.drop(['Time (mean)', 'Time (Median)', 'Time (std)', 'Time (Cov)', 'Time (var)'], axis=1, inplace = True)"
   ]
  },
  {
   "cell_type": "code",
   "execution_count": 65,
   "outputs": [
    {
     "data": {
      "text/plain": "Index(['Right Rectus Femoris (Mean)', 'Left Gluteus Maximus(Mean)',\n       'Left Gastrocnemius Medialis (Mean)', 'Left Semitendinosus (Mean)',\n       'Left Biceps Femoris Caput Longus (Mean)',\n       'Right Vastus Medialis (Mean)', 'Right Tibialis Anterior (Mean)',\n       'Left Gastrocnemius Lateralis (Mean)', 'Right Rectus Femoris (Median)',\n       'Left Gluteus Maximus(Median)', 'Left Gastrocnemius Medialis (Median)',\n       'Left Semitendinosus (Median)',\n       'Left Biceps Femoris Caput Longus (Median)',\n       'Right Vastus Medialis (Median)', 'Right Tibialis Anterior (Median)',\n       'Left Gastrocnemius Lateralis (Median)', 'Right Rectus Femoris (std)',\n       'Left Gluteus Maximus(std)', 'Left Gastrocnemius Medialis (std)',\n       'Left Semitendinosus (std)', 'Left Biceps Femoris Caput Longus (std)',\n       'Right Vastus Medialis (std)', 'Right Tibialis Anterior (std)',\n       'Left Gastrocnemius Lateralis (std)', 'Right Rectus Femoris (Cov)',\n       'Left Gluteus Maximus(Cov)', 'Left Gastrocnemius Medialis (Cov)',\n       'Left Semitendinosus (Cov)', 'Left Biceps Femoris Caput Longus (Cov)',\n       'Right Vastus Medialis (Cov)', 'Right Tibialis Anterior (Cov)',\n       'Left Gastrocnemius Lateralis (Cov)', 'Right Rectus Femoris (var)',\n       'Left Gluteus Maximus(var)', 'Left Gastrocnemius Medialis (var)',\n       'Left Semitendinosus (var)', 'Left Biceps Femoris Caput Longus (var)',\n       'Right Vastus Medialis (var)', 'Right Tibialis Anterior (var)',\n       'Left Gastrocnemius Lateralis (var)'],\n      dtype='object')"
     },
     "execution_count": 65,
     "metadata": {},
     "output_type": "execute_result"
    }
   ],
   "source": [
    "stats_df.columns"
   ],
   "metadata": {
    "collapsed": false
   }
  },
  {
   "cell_type": "code",
   "execution_count": null,
   "outputs": [],
   "source": [
    "time_array.head()"
   ],
   "metadata": {
    "collapsed": false
   }
  },
  {
   "cell_type": "markdown",
   "metadata": {
    "id": "X9CVlCz_5LRa"
   },
   "source": [
    "# Exploratory review of the Transformed DataFrame"
   ]
  },
  {
   "cell_type": "code",
   "execution_count": null,
   "metadata": {
    "colab": {
     "base_uri": "https://localhost:8080/",
     "height": 596
    },
    "id": "-09CZDPDkgQK",
    "outputId": "fd6dad1b-e739-4250-8faa-97f842d0c7a5"
   },
   "outputs": [],
   "source": [
    "stats_df.info()\n",
    "stats_df.describe()"
   ]
  },
  {
   "cell_type": "markdown",
   "metadata": {
    "id": "ypam-eKw6t4g"
   },
   "source": [
    "# Parameter Selection through Feature Engineering techniques"
   ]
  },
  {
   "cell_type": "code",
   "execution_count": null,
   "metadata": {
    "colab": {
     "base_uri": "https://localhost:8080/",
     "height": 439
    },
    "id": "-pzQVemCn9Cy",
    "outputId": "a4574cde-8988-423c-9b02-90fb346a1531"
   },
   "outputs": [],
   "source": [
    "X = stats_df.iloc[:, :-1]\n",
    "y = stats_df.iloc[:, -1]\n",
    "\n",
    "model = RandomForestClassifier()\n",
    "model.fit(X,y)\n",
    "feat_importances = pd.Series(model.feature_importances_, index=X.columns)\n",
    "feat_importances.nlargest(10).plot(kind='barh')\n",
    "plt.show()\n",
    "print(feat_importances.nlargest(10))"
   ]
  },
  {
   "cell_type": "code",
   "execution_count": null,
   "metadata": {
    "colab": {
     "base_uri": "https://localhost:8080/",
     "height": 1000
    },
    "id": "6pWwzf6YBq7u",
    "outputId": "9fe8267d-2beb-402c-af89-a60a393c7e71"
   },
   "outputs": [],
   "source": [
    "# Matrix correlation:\n",
    "plt.figure(figsize=(50,50))\n",
    "sns.heatmap(data = stats_df.corr(),annot=True,cmap=\"mako\")\n",
    "plt.show()\n"
   ]
  },
  {
   "cell_type": "code",
   "execution_count": null,
   "metadata": {
    "colab": {
     "base_uri": "https://localhost:8080/"
    },
    "id": "Ndw-ltNFYrfC",
    "outputId": "bd80f9d8-7aff-441f-eb30-315e00cf8aa4"
   },
   "outputs": [],
   "source": [
    "#Splitting the dataset into the Training set and Test set\n",
    "\n",
    "X_train, X_test, y_train, y_test = train_test_split(stats_df[['Left Gastrocnemius Medialis (Mean)', 'Left Gastrocnemius Medialis (Median)','Left Gastrocnemius Medialis (Cov)', 'Left Gastrocnemius Medialis (var)', 'Left Biceps Femoris Caput Longus (Median)', 'Left Biceps Femoris Caput Longus (var)', 'Left Biceps Femoris Caput Longus (Cov)']], y, test_size = 0.85, random_state = 85, stratify=y)\n",
    "\n",
    "#Let's check the shape of the training and test sets.\n",
    "\n",
    "print(X_train.shape, y_train.shape, X_test.shape, y_test.shape)"
   ]
  },
  {
   "cell_type": "markdown",
   "metadata": {
    "id": "JJlBYCHlyOOT"
   },
   "source": [
    "# Fare review of classification methods for EMG Dataset"
   ]
  },
  {
   "cell_type": "code",
   "execution_count": null,
   "metadata": {
    "colab": {
     "base_uri": "https://localhost:8080/",
     "height": 1000
    },
    "id": "7PzcDiJBZ6Br",
    "outputId": "fd3c3cfe-2865-4adc-c6fe-a30b13f4019e"
   },
   "outputs": [],
   "source": [
    "#Create a function that fit the model in a Random Forest Classifier and return the accuracy score.\n",
    "\n",
    "def random_forest(X_train, y_train, X_test, y_test):\n",
    "    global y_pred, best_trees, best_accuracy, best_criterion\n",
    "    tree_num = []\n",
    "    accuracy = []\n",
    "    criterion = []\n",
    "    for i in range(1, 109, 9):\n",
    "        for j in ['gini', 'entropy']:\n",
    "            rf = RandomForestClassifier(n_estimators=i, random_state=42, criterion=j, n_jobs=4)\n",
    "            rf.fit(X_train, y_train)\n",
    "            y_pred = rf.predict(X_test)\n",
    "            y_pred_train = rf.predict(X_train)\n",
    "            a_s_test= accuracy_score(y_test, y_pred)\n",
    "            a_s_train = accuracy_score(y_train, y_pred_train)\n",
    "            print(f'Accuracy score test for {i} trees and criterion {j}: {a_s_test}')\n",
    "            print(f'Accuracy score train for {i} trees and criterion {j}: {a_s_train}')\n",
    "            tree_num.append(i)\n",
    "            accuracy.append(accuracy_score(y_test, y_pred))\n",
    "            #Save the best accuracy_score and the number of trees.3\n",
    "            if i == 1:\n",
    "                best_accuracy = a_s_test\n",
    "                best_accuracy_train = a_s_train\n",
    "                best_trees = i\n",
    "                best_criterion = j\n",
    "            elif accuracy_score(y_test, y_pred) > best_accuracy:\n",
    "                best_accuracy = accuracy_score(y_test, y_pred)\n",
    "                best_accuracy_train = accuracy_score(y_train, y_pred_train)\n",
    "                best_trees = i\n",
    "                best_criterion = j\n",
    "    plt.figure(figsize=(20,10))\n",
    "    plt.plot(tree_num, accuracy)\n",
    "    plt.xlabel('Number of trees')\n",
    "    plt.ylabel('Accuracy')\n",
    "    plt.show()\n",
    "\n",
    "    return f'The best accuracy score for test subset is: {best_accuracy} and the best for train subset is: {best_accuracy_train} with number of trees: {best_trees} and criterion {best_criterion}'\n",
    "\n",
    "random_forest(X_train, y_train, X_test, y_test)"
   ]
  },
  {
   "cell_type": "code",
   "execution_count": null,
   "metadata": {
    "id": "ZeuhrS9xvRwY"
   },
   "outputs": [],
   "source": [
    "def knn(X_train, y_train, X_test, y_test):\n",
    "    global y_pred, best_k, best_accuracy, best_weight, best_p\n",
    "    k = []\n",
    "    accuracy = []\n",
    "    for i in range(1, 20, 1):\n",
    "        for j in ['uniform', 'distance']:\n",
    "            for power in [1,2,3,4,5]:\n",
    "                knn = KNeighborsClassifier(n_neighbors=i, n_jobs=-1, weights=j, p=power)\n",
    "                knn.fit(X_train, y_train)\n",
    "                y_pred = knn.predict(X_test)\n",
    "                y_pred_train = knn.predict(X_train)\n",
    "                a_s_test= accuracy_score(y_test, y_pred)\n",
    "                a_s_train = accuracy_score(y_train, y_pred_train)\n",
    "                print(f'Accuracy score for {i} neighbors in test: {a_s_test} and for {i} neighbors in train: {a_s_train} weight {j} with a power of {power}')\n",
    "                k.append(i)\n",
    "                accuracy.append(accuracy_score(y_test, y_pred))\n",
    "                #Save the best accuracy_score and the number of neighbors.\n",
    "                if i == 1:\n",
    "                    best_accuracy = a_s_test\n",
    "                    best_accuracy_train = a_s_train\n",
    "                    best_k = i\n",
    "                    best_weight = j\n",
    "                    best_p=power\n",
    "                elif accuracy_score(y_test, y_pred) > best_accuracy:\n",
    "                    best_accuracy = a_s_test\n",
    "                    best_accuracy_train = a_s_train\n",
    "                    best_k = i\n",
    "                    best_weight = j\n",
    "                    best_p = power\n",
    "    \n",
    "    plt.figure(figsize=(20,10))\n",
    "    plt.plot(k, accuracy)\n",
    "    plt.plot()\n",
    "    plt.xlabel('Number of neighbors')\n",
    "    plt.ylabel('Accuracy')\n",
    "    plt.show()\n",
    "\n",
    "    return f'The best accuracy score for test is: {best_accuracy}, for train is: {best_accuracy_train} and the best number of neighbors is: {best_k} with weight defined as {best_weight} with a power of {best_p}'"
   ]
  },
  {
   "cell_type": "code",
   "execution_count": null,
   "metadata": {
    "colab": {
     "base_uri": "https://localhost:8080/",
     "height": 1000
    },
    "id": "hSfIM32kva9E",
    "outputId": "6dab649f-5274-46b5-b5e4-e83ec2431b6b"
   },
   "outputs": [],
   "source": [
    "knn(X_train, y_train, X_test, y_test)"
   ]
  },
  {
   "cell_type": "code",
   "execution_count": null,
   "metadata": {
    "id": "0JKrVR5HvdIV"
   },
   "outputs": [],
   "source": [
    "def gamma_SVM(X_train, y_train, X_test, y_test):\n",
    "    gamma = []\n",
    "    accuracy = []\n",
    "    for i in np.arange(0.1, 3, 0.5):\n",
    "        for j in [0.1, 1, 10, 100]:\n",
    "            model = SVC(random_state=None, kernel='rbf', C=j, gamma=i)\n",
    "            model.fit(X_train, y_train)\n",
    "            y_pred = model.predict(X_test)\n",
    "            print(f'Accuracy score for gamma {i} and C {j}: {accuracy_score(y_test, y_pred)}')\n",
    "            gamma.append(i)\n",
    "            accuracy.append(accuracy_score(y_test, y_pred))\n",
    "    plt.figure(figsize=(20,10))\n",
    "    plt.plot(gamma, accuracy)\n",
    "    plt.xlabel('Gamma')\n",
    "    plt.ylabel('Accuracy')\n",
    "    plt.show()\n",
    "\n",
    "    return f'The best accuracy score is: {max(accuracy)} and the best gamma is: {gamma[accuracy.index(max(accuracy))]} with C {j}'"
   ]
  },
  {
   "cell_type": "code",
   "execution_count": null,
   "metadata": {
    "colab": {
     "base_uri": "https://localhost:8080/",
     "height": 1000
    },
    "id": "af20jA8EwG4s",
    "outputId": "1dbe4b76-1d42-4c4d-b881-c9c1c1a61d2c"
   },
   "outputs": [],
   "source": [
    "gamma_SVM(X_train, y_train, X_test, y_test)"
   ]
  },
  {
   "cell_type": "markdown",
   "metadata": {
    "id": "lU_lFCjFyGBE"
   },
   "source": [
    "# Grid Search application to classifiers"
   ]
  },
  {
   "cell_type": "code",
   "execution_count": null,
   "metadata": {
    "id": "_EGSGcwcwJRZ"
   },
   "outputs": [],
   "source": [
    "pipe = Pipeline([(\"classifier\", KNeighborsClassifier())])\n",
    "search_space = [\n",
    "    {\n",
    "        \"classifier\" : [LogisticRegression()],\n",
    "        \"classifier__penalty\" : ['none', 'l1', 'l2', 'elasticnet'],\n",
    "        \"classifier__max_iter\" : [i for i in range(1, 10000, 1000)],\n",
    "        \"classifier__n_jobs\" : [1, 2, 3, 4, -1]\n",
    "     },\n",
    "\n",
    "     {\n",
    "        \"classifier\" : [RandomForestClassifier()],\n",
    "        \"classifier__n_estimators\" : [i for i in range(1,1000,100)],\n",
    "        \"classifier__criterion\" : ['gini', 'entropy', 'log_loss'],\n",
    "        \"classifier__class_weight\" : ['balanced', 'balanced_subsample']   \n",
    "     },\n",
    "\n",
    "     {\n",
    "        \"classifier\" : [KNeighborsClassifier()],\n",
    "        \"classifier__n_neighbors\" : [i for i in range(1, 20, 1)],\n",
    "        \"classifier__weights\" : ['uniform', 'distance'],\n",
    "        \"classifier__algorithm\" : ['auto', 'ball_tree', 'kd_tree', 'brute'],\n",
    "        \"classifier__p\" : [1, 2]\n",
    "     },\n",
    "\n",
    "     {\n",
    "        \"classifier\" : [NuSVC()],\n",
    "        \"classifier__nu\" : [0.2, 0.4, 0.6, 0.8, 1],\n",
    "        \"classifier__kernel\" : ['linear', 'poly', 'rbf', 'sigmoid'],\n",
    "        \"classifier__decision_function_shape\" : ['ovo', 'ovr']\n",
    "     },\n",
    "\n",
    "     {\n",
    "        \"classifier\" : [LinearSVC()],\n",
    "        \"classifier__penalty\" : ['l1', 'l2'],\n",
    "        \"classifier__loss\" : ['hinge', 'squared_hinge'],\n",
    "        \"classifier__multi_class\" : ['ovr', 'crammer_singer'],\n",
    "        \"classifier__max_iter\" : [i for i in range(1, 5000, 200)]\n",
    "     },\n",
    "\n",
    "     {\n",
    "        \"classifier\" : [SVC()],\n",
    "        \"classifier__kernel\" : ['linear', 'poly', 'rbf', 'sigmoid'],\n",
    "        \"classifier__gamma\" : ['scale', 'auto']\n",
    "     }\n",
    "]"
   ]
  },
  {
   "cell_type": "code",
   "execution_count": null,
   "metadata": {
    "colab": {
     "base_uri": "https://localhost:8080/"
    },
    "id": "_q2_qsavJBdh",
    "outputId": "1d55ccf3-177a-492c-98bf-4bb98a0f23a5"
   },
   "outputs": [],
   "source": [
    "#GridSearch:\n",
    "\n",
    "classif = GridSearchCV(pipe, search_space, cv=15, verbose=0, n_jobs=-1)\n",
    "best_clf=classif.fit(X_train, y_train)\n",
    "print(f'El mejor modelo es: {best_clf.best_estimator_.get_params()[\"classifier\"]}, con un accuracy de: {classif.score(X_train, y_train)}')"
   ]
  },
  {
   "cell_type": "code",
   "execution_count": null,
   "metadata": {
    "id": "ZHuUq_FwivTE"
   },
   "outputs": [],
   "source": [
    "x_features =stats_df[['Left Gastrocnemius Medialis (Mean)', 'Left Gastrocnemius Medialis (Median)','Left Gastrocnemius Medialis (Cov)', 'Left Gastrocnemius Medialis (var)', 'Left Biceps Femoris Caput Longus (Median)', 'Left Biceps Femoris Caput Longus (var)', 'Left Biceps Femoris Caput Longus (Cov)']]"
   ]
  },
  {
   "cell_type": "markdown",
   "source": [
    "# Confusion Matrix plot"
   ],
   "metadata": {
    "collapsed": false
   }
  },
  {
   "cell_type": "code",
   "execution_count": null,
   "outputs": [],
   "source": [
    "y_pred = best_clf.best_estimator_.predict(x_features)\n",
    "cf_mtx = confusion_matrix(y, y_pred)\n",
    "ax = sns.heatmap(cf_mtx, annot=True, cmap= 'mako', xticklabels= ['Positive', 'Negative'],\n",
    "            yticklabels = ['Positive', 'Negative'], fmt='g')\n",
    "ax.set(xlabel = \"Actual Values\", ylabel=\"Predicted Values\")"
   ],
   "metadata": {
    "collapsed": false
   }
  },
  {
   "cell_type": "markdown",
   "source": [
    "De los 686 datos almacenados, 559 fueron predichos correctamente cómo verdaderos positivos y verdaderos negativos"
   ],
   "metadata": {
    "collapsed": false
   }
  },
  {
   "cell_type": "markdown",
   "source": [
    "# Metric analysis"
   ],
   "metadata": {
    "collapsed": false
   }
  },
  {
   "cell_type": "code",
   "execution_count": null,
   "outputs": [],
   "source": [
    "print(accuracy_score(y, y_pred), f1_score(y, y_pred), roc_auc_score(y, y_pred))\n"
   ],
   "metadata": {
    "collapsed": false
   }
  },
  {
   "cell_type": "code",
   "execution_count": null,
   "outputs": [],
   "source": [],
   "metadata": {
    "collapsed": false
   }
  }
 ],
 "metadata": {
  "colab": {
   "provenance": []
  },
  "gpuClass": "standard",
  "kernelspec": {
   "display_name": "Python 3",
   "name": "python3"
  },
  "language_info": {
   "name": "python"
  }
 },
 "nbformat": 4,
 "nbformat_minor": 0
}
